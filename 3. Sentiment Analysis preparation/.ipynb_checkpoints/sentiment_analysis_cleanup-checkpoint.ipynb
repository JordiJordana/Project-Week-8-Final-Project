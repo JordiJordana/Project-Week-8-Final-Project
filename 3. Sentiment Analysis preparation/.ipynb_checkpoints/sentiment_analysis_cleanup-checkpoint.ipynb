{
 "cells": [
  {
   "cell_type": "code",
   "execution_count": 12,
   "metadata": {},
   "outputs": [],
   "source": [
    "import pandas as pd\n",
    "import re\n",
    "import nltk\n",
    "from nltk.tokenize import word_tokenize\n",
    "from nltk.tokenize import sent_tokenize\n",
    "from nltk.corpus import stopwords"
   ]
  },
  {
   "cell_type": "code",
   "execution_count": 13,
   "metadata": {},
   "outputs": [
    {
     "data": {
      "text/html": [
       "<div>\n",
       "<style scoped>\n",
       "    .dataframe tbody tr th:only-of-type {\n",
       "        vertical-align: middle;\n",
       "    }\n",
       "\n",
       "    .dataframe tbody tr th {\n",
       "        vertical-align: top;\n",
       "    }\n",
       "\n",
       "    .dataframe thead th {\n",
       "        text-align: right;\n",
       "    }\n",
       "</style>\n",
       "<table border=\"1\" class=\"dataframe\">\n",
       "  <thead>\n",
       "    <tr style=\"text-align: right;\">\n",
       "      <th></th>\n",
       "      <th>articleWordCount</th>\n",
       "      <th>headline</th>\n",
       "      <th>snippet</th>\n",
       "    </tr>\n",
       "  </thead>\n",
       "  <tbody>\n",
       "    <tr>\n",
       "      <th>0</th>\n",
       "      <td>1324</td>\n",
       "      <td>G.O.P. Leadership Poised to Topple Obama’s Pi...</td>\n",
       "      <td>The most powerful and ambitious Republican-led...</td>\n",
       "    </tr>\n",
       "    <tr>\n",
       "      <th>1</th>\n",
       "      <td>2836</td>\n",
       "      <td>Fractured World Tested the Hope of a Young Pre...</td>\n",
       "      <td>A strategy that went from a “good war” to the ...</td>\n",
       "    </tr>\n",
       "    <tr>\n",
       "      <th>2</th>\n",
       "      <td>445</td>\n",
       "      <td>Little Troublemakers</td>\n",
       "      <td>Chuck Deodene puts us in a bubbly mood.</td>\n",
       "    </tr>\n",
       "    <tr>\n",
       "      <th>3</th>\n",
       "      <td>864</td>\n",
       "      <td>Angela Merkel, Russia’s Next Target</td>\n",
       "      <td>With a friend entering the White House, Vladim...</td>\n",
       "    </tr>\n",
       "    <tr>\n",
       "      <th>4</th>\n",
       "      <td>309</td>\n",
       "      <td>Boots for a Stranger on a Bus</td>\n",
       "      <td>Witnessing an act of generosity on a rainy day.</td>\n",
       "    </tr>\n",
       "  </tbody>\n",
       "</table>\n",
       "</div>"
      ],
      "text/plain": [
       "   articleWordCount                                           headline  \\\n",
       "0              1324   G.O.P. Leadership Poised to Topple Obama’s Pi...   \n",
       "1              2836  Fractured World Tested the Hope of a Young Pre...   \n",
       "2               445                               Little Troublemakers   \n",
       "3               864                Angela Merkel, Russia’s Next Target   \n",
       "4               309                      Boots for a Stranger on a Bus   \n",
       "\n",
       "                                             snippet  \n",
       "0  The most powerful and ambitious Republican-led...  \n",
       "1  A strategy that went from a “good war” to the ...  \n",
       "2            Chuck Deodene puts us in a bubbly mood.  \n",
       "3  With a friend entering the White House, Vladim...  \n",
       "4    Witnessing an act of generosity on a rainy day.  "
      ]
     },
     "execution_count": 13,
     "metadata": {},
     "output_type": "execute_result"
    }
   ],
   "source": [
    "nyt = pd.read_csv('../2. Data cleaning/nyt.csv')\n",
    "nyt.head()"
   ]
  },
  {
   "cell_type": "markdown",
   "metadata": {},
   "source": [
    "## Tokenize data"
   ]
  },
  {
   "cell_type": "markdown",
   "metadata": {},
   "source": [
    "In the first place we create a list of all of the words of the headlines and snippets, so each of them deemed conveying meaning will be matched with a dictionary."
   ]
  },
  {
   "cell_type": "code",
   "execution_count": 22,
   "metadata": {},
   "outputs": [],
   "source": [
    "#funcion para tokenizar todo:\n",
    "def clean_up(s):\n",
    "    s = re.sub(r'(http|https)\\S+', ' ', s)\n",
    "    s = re.sub('[^A-Za-z]+', ' ', s)\n",
    "    return s.lower().strip()"
   ]
  },
  {
   "cell_type": "code",
   "execution_count": 23,
   "metadata": {},
   "outputs": [],
   "source": [
    "def tokenize(s):\n",
    "    s = s.split(' ')\n",
    "    return s"
   ]
  },
  {
   "cell_type": "code",
   "execution_count": null,
   "metadata": {},
   "outputs": [],
   "source": []
  },
  {
   "cell_type": "code",
   "execution_count": 24,
   "metadata": {},
   "outputs": [],
   "source": [
    "nyt['headline_token'] = nyt['headline'].apply(clean_up)"
   ]
  },
  {
   "cell_type": "code",
   "execution_count": 25,
   "metadata": {},
   "outputs": [],
   "source": [
    "nyt['headline_token'] = nyt['headline_token'].apply(tokenize)"
   ]
  },
  {
   "cell_type": "code",
   "execution_count": 26,
   "metadata": {},
   "outputs": [
    {
     "data": {
      "text/html": [
       "<div>\n",
       "<style scoped>\n",
       "    .dataframe tbody tr th:only-of-type {\n",
       "        vertical-align: middle;\n",
       "    }\n",
       "\n",
       "    .dataframe tbody tr th {\n",
       "        vertical-align: top;\n",
       "    }\n",
       "\n",
       "    .dataframe thead th {\n",
       "        text-align: right;\n",
       "    }\n",
       "</style>\n",
       "<table border=\"1\" class=\"dataframe\">\n",
       "  <thead>\n",
       "    <tr style=\"text-align: right;\">\n",
       "      <th></th>\n",
       "      <th>articleWordCount</th>\n",
       "      <th>headline</th>\n",
       "      <th>snippet</th>\n",
       "      <th>headline_token</th>\n",
       "    </tr>\n",
       "  </thead>\n",
       "  <tbody>\n",
       "    <tr>\n",
       "      <th>0</th>\n",
       "      <td>1324</td>\n",
       "      <td>G.O.P. Leadership Poised to Topple Obama’s Pi...</td>\n",
       "      <td>The most powerful and ambitious Republican-led...</td>\n",
       "      <td>[g, o, p, leadership, poised, to, topple, obam...</td>\n",
       "    </tr>\n",
       "    <tr>\n",
       "      <th>1</th>\n",
       "      <td>2836</td>\n",
       "      <td>Fractured World Tested the Hope of a Young Pre...</td>\n",
       "      <td>A strategy that went from a “good war” to the ...</td>\n",
       "      <td>[fractured, world, tested, the, hope, of, a, y...</td>\n",
       "    </tr>\n",
       "    <tr>\n",
       "      <th>2</th>\n",
       "      <td>445</td>\n",
       "      <td>Little Troublemakers</td>\n",
       "      <td>Chuck Deodene puts us in a bubbly mood.</td>\n",
       "      <td>[little, troublemakers]</td>\n",
       "    </tr>\n",
       "    <tr>\n",
       "      <th>3</th>\n",
       "      <td>864</td>\n",
       "      <td>Angela Merkel, Russia’s Next Target</td>\n",
       "      <td>With a friend entering the White House, Vladim...</td>\n",
       "      <td>[angela, merkel, russia, s, next, target]</td>\n",
       "    </tr>\n",
       "    <tr>\n",
       "      <th>4</th>\n",
       "      <td>309</td>\n",
       "      <td>Boots for a Stranger on a Bus</td>\n",
       "      <td>Witnessing an act of generosity on a rainy day.</td>\n",
       "      <td>[boots, for, a, stranger, on, a, bus]</td>\n",
       "    </tr>\n",
       "  </tbody>\n",
       "</table>\n",
       "</div>"
      ],
      "text/plain": [
       "   articleWordCount                                           headline  \\\n",
       "0              1324   G.O.P. Leadership Poised to Topple Obama’s Pi...   \n",
       "1              2836  Fractured World Tested the Hope of a Young Pre...   \n",
       "2               445                               Little Troublemakers   \n",
       "3               864                Angela Merkel, Russia’s Next Target   \n",
       "4               309                      Boots for a Stranger on a Bus   \n",
       "\n",
       "                                             snippet  \\\n",
       "0  The most powerful and ambitious Republican-led...   \n",
       "1  A strategy that went from a “good war” to the ...   \n",
       "2            Chuck Deodene puts us in a bubbly mood.   \n",
       "3  With a friend entering the White House, Vladim...   \n",
       "4    Witnessing an act of generosity on a rainy day.   \n",
       "\n",
       "                                      headline_token  \n",
       "0  [g, o, p, leadership, poised, to, topple, obam...  \n",
       "1  [fractured, world, tested, the, hope, of, a, y...  \n",
       "2                            [little, troublemakers]  \n",
       "3          [angela, merkel, russia, s, next, target]  \n",
       "4              [boots, for, a, stranger, on, a, bus]  "
      ]
     },
     "execution_count": 26,
     "metadata": {},
     "output_type": "execute_result"
    }
   ],
   "source": [
    "nyt.head()"
   ]
  },
  {
   "cell_type": "code",
   "execution_count": 22,
   "metadata": {},
   "outputs": [],
   "source": [
    "lst_words = []\n",
    "\n",
    "for head in nyt.headline:\n",
    "    head = head.lower()\n",
    "    lst_words += head.strip().split(' ')\n",
    "    \n",
    "for snip in nyt.snippet:\n",
    "    snip = snip.lower()\n",
    "    lst_words += snip.strip().split(' ')\n",
    "    "
   ]
  },
  {
   "cell_type": "code",
   "execution_count": 24,
   "metadata": {},
   "outputs": [
    {
     "data": {
      "text/plain": [
       "['g.o.p.',\n",
       " 'leadership',\n",
       " 'poised',\n",
       " 'to',\n",
       " 'topple',\n",
       " 'obama’s',\n",
       " 'pillars',\n",
       " 'fractured',\n",
       " 'world',\n",
       " 'tested']"
      ]
     },
     "execution_count": 24,
     "metadata": {},
     "output_type": "execute_result"
    }
   ],
   "source": [
    "lst_words[0:10]"
   ]
  },
  {
   "cell_type": "markdown",
   "metadata": {},
   "source": [
    "We import the stopwords list from the library."
   ]
  },
  {
   "cell_type": "code",
   "execution_count": 25,
   "metadata": {},
   "outputs": [],
   "source": [
    "stop_words = set(stopwords.words('english'))"
   ]
  },
  {
   "cell_type": "markdown",
   "metadata": {},
   "source": [
    "Stop words are removed from the list of words because they can't be analyzed on their own"
   ]
  },
  {
   "cell_type": "code",
   "execution_count": 26,
   "metadata": {},
   "outputs": [],
   "source": [
    "filtered_words = [w for w in lst_words if not w in stop_words] "
   ]
  },
  {
   "cell_type": "code",
   "execution_count": null,
   "metadata": {},
   "outputs": [],
   "source": []
  },
  {
   "cell_type": "code",
   "execution_count": 36,
   "metadata": {},
   "outputs": [
    {
     "data": {
      "text/plain": [
       "127708"
      ]
     },
     "execution_count": 36,
     "metadata": {},
     "output_type": "execute_result"
    }
   ],
   "source": [
    "for word in filtered_words:\n",
    "    word = re.sub('[^a-z]+', '', word)\n",
    "    word = re.sub('[^\\w\\s]', '', word)\n",
    "    word = re.sub('[\\W_]+', '', word) \n",
    "    #strip\n",
    "    #transformar a otro encoding\n",
    "    \n",
    "len(filtered_words)"
   ]
  },
  {
   "cell_type": "code",
   "execution_count": 45,
   "metadata": {},
   "outputs": [],
   "source": [
    "filtered_strings = []\n",
    "\n",
    "for word in filtered_words:\n",
    "    accept = word.isalnum()\n",
    "    filtered_strings.append(accept)\n"
   ]
  },
  {
   "cell_type": "code",
   "execution_count": 52,
   "metadata": {},
   "outputs": [],
   "source": [
    "dict_false = dict(zip(filtered_strings, filtered_words))"
   ]
  },
  {
   "cell_type": "markdown",
   "metadata": {},
   "source": [
    "FUNCION FILTER"
   ]
  },
  {
   "cell_type": "code",
   "execution_count": 48,
   "metadata": {},
   "outputs": [
    {
     "data": {
      "text/plain": [
       "127708"
      ]
     },
     "execution_count": 48,
     "metadata": {},
     "output_type": "execute_result"
    }
   ],
   "source": [
    "len(filtered_strings)"
   ]
  },
  {
   "cell_type": "code",
   "execution_count": 49,
   "metadata": {},
   "outputs": [
    {
     "data": {
      "text/plain": [
       "127708"
      ]
     },
     "execution_count": 49,
     "metadata": {},
     "output_type": "execute_result"
    }
   ],
   "source": [
    "len(filtered_words)"
   ]
  },
  {
   "cell_type": "code",
   "execution_count": null,
   "metadata": {},
   "outputs": [],
   "source": []
  }
 ],
 "metadata": {
  "kernelspec": {
   "display_name": "Python 3",
   "language": "python",
   "name": "python3"
  },
  "language_info": {
   "codemirror_mode": {
    "name": "ipython",
    "version": 3
   },
   "file_extension": ".py",
   "mimetype": "text/x-python",
   "name": "python",
   "nbconvert_exporter": "python",
   "pygments_lexer": "ipython3",
   "version": "3.7.4"
  }
 },
 "nbformat": 4,
 "nbformat_minor": 2
}
