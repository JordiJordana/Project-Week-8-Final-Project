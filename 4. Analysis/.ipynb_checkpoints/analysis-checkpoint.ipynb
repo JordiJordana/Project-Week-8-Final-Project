{
 "cells": [
  {
   "cell_type": "code",
   "execution_count": 28,
   "metadata": {},
   "outputs": [],
   "source": [
    "import pandas as pd\n",
    "import re\n",
    "import nltk\n",
    "from nltk.tokenize import word_tokenize\n",
    "from sklearn.naive_bayes import MultinomialNB, BernoulliNB\n",
    "from nltk.classify import ClassifierI\n",
    "import numpy as np"
   ]
  },
  {
   "cell_type": "markdown",
   "metadata": {},
   "source": [
    "## Importing "
   ]
  },
  {
   "cell_type": "code",
   "execution_count": 29,
   "metadata": {},
   "outputs": [
    {
     "data": {
      "text/html": [
       "<div>\n",
       "<style scoped>\n",
       "    .dataframe tbody tr th:only-of-type {\n",
       "        vertical-align: middle;\n",
       "    }\n",
       "\n",
       "    .dataframe tbody tr th {\n",
       "        vertical-align: top;\n",
       "    }\n",
       "\n",
       "    .dataframe thead th {\n",
       "        text-align: right;\n",
       "    }\n",
       "</style>\n",
       "<table border=\"1\" class=\"dataframe\">\n",
       "  <thead>\n",
       "    <tr style=\"text-align: right;\">\n",
       "      <th></th>\n",
       "      <th>articleWordCount</th>\n",
       "      <th>headline</th>\n",
       "      <th>snippet</th>\n",
       "      <th>tokens</th>\n",
       "      <th>label_headline</th>\n",
       "    </tr>\n",
       "  </thead>\n",
       "  <tbody>\n",
       "    <tr>\n",
       "      <th>0</th>\n",
       "      <td>1324</td>\n",
       "      <td>G.O.P. Leadership Poised to Topple Obama’s Pi...</td>\n",
       "      <td>The most powerful and ambitious Republican-led...</td>\n",
       "      <td>['leadership', 'poised', 'topple', 'obama', 'p...</td>\n",
       "      <td>Positive</td>\n",
       "    </tr>\n",
       "    <tr>\n",
       "      <th>1</th>\n",
       "      <td>2836</td>\n",
       "      <td>Fractured World Tested the Hope of a Young Pre...</td>\n",
       "      <td>A strategy that went from a “good war” to the ...</td>\n",
       "      <td>['fractured', 'world', 'tested', 'hope', 'youn...</td>\n",
       "      <td>Positive</td>\n",
       "    </tr>\n",
       "    <tr>\n",
       "      <th>2</th>\n",
       "      <td>445</td>\n",
       "      <td>Little Troublemakers</td>\n",
       "      <td>Chuck Deodene puts us in a bubbly mood.</td>\n",
       "      <td>['little', 'troublemakerschuck', 'deodene', 'p...</td>\n",
       "      <td>Neutral</td>\n",
       "    </tr>\n",
       "    <tr>\n",
       "      <th>3</th>\n",
       "      <td>864</td>\n",
       "      <td>Angela Merkel, Russia’s Next Target</td>\n",
       "      <td>With a friend entering the White House, Vladim...</td>\n",
       "      <td>['angela', 'merkel', 'russia', 'next', 'target...</td>\n",
       "      <td>Negative</td>\n",
       "    </tr>\n",
       "    <tr>\n",
       "      <th>4</th>\n",
       "      <td>309</td>\n",
       "      <td>Boots for a Stranger on a Bus</td>\n",
       "      <td>Witnessing an act of generosity on a rainy day.</td>\n",
       "      <td>['boots', 'stranger', 'buswitnessing', 'act', ...</td>\n",
       "      <td>Neutral</td>\n",
       "    </tr>\n",
       "  </tbody>\n",
       "</table>\n",
       "</div>"
      ],
      "text/plain": [
       "   articleWordCount                                           headline  \\\n",
       "0              1324   G.O.P. Leadership Poised to Topple Obama’s Pi...   \n",
       "1              2836  Fractured World Tested the Hope of a Young Pre...   \n",
       "2               445                               Little Troublemakers   \n",
       "3               864                Angela Merkel, Russia’s Next Target   \n",
       "4               309                      Boots for a Stranger on a Bus   \n",
       "\n",
       "                                             snippet  \\\n",
       "0  The most powerful and ambitious Republican-led...   \n",
       "1  A strategy that went from a “good war” to the ...   \n",
       "2            Chuck Deodene puts us in a bubbly mood.   \n",
       "3  With a friend entering the White House, Vladim...   \n",
       "4    Witnessing an act of generosity on a rainy day.   \n",
       "\n",
       "                                              tokens label_headline  \n",
       "0  ['leadership', 'poised', 'topple', 'obama', 'p...       Positive  \n",
       "1  ['fractured', 'world', 'tested', 'hope', 'youn...       Positive  \n",
       "2  ['little', 'troublemakerschuck', 'deodene', 'p...        Neutral  \n",
       "3  ['angela', 'merkel', 'russia', 'next', 'target...       Negative  \n",
       "4  ['boots', 'stranger', 'buswitnessing', 'act', ...        Neutral  "
      ]
     },
     "execution_count": 29,
     "metadata": {},
     "output_type": "execute_result"
    }
   ],
   "source": [
    "nyt = pd.read_csv('../3. Sentiment Analysis preparation/sentiment_prepared.csv', index_col = 0)\n",
    "nyt.head()"
   ]
  },
  {
   "cell_type": "markdown",
   "metadata": {},
   "source": [
    "## New dataframe to eliminate neutral words"
   ]
  },
  {
   "cell_type": "code",
   "execution_count": 30,
   "metadata": {},
   "outputs": [],
   "source": [
    "new_nyt = nyt[nyt.label_headline != 'Neutral'].reset_index(drop=True).copy()"
   ]
  },
  {
   "cell_type": "code",
   "execution_count": 31,
   "metadata": {},
   "outputs": [],
   "source": [
    "new_nyt = new_nyt.replace(['Positive', 'Negative'], ['pos', 'neg'])     "
   ]
  },
  {
   "cell_type": "code",
   "execution_count": 32,
   "metadata": {},
   "outputs": [
    {
     "data": {
      "text/html": [
       "<div>\n",
       "<style scoped>\n",
       "    .dataframe tbody tr th:only-of-type {\n",
       "        vertical-align: middle;\n",
       "    }\n",
       "\n",
       "    .dataframe tbody tr th {\n",
       "        vertical-align: top;\n",
       "    }\n",
       "\n",
       "    .dataframe thead th {\n",
       "        text-align: right;\n",
       "    }\n",
       "</style>\n",
       "<table border=\"1\" class=\"dataframe\">\n",
       "  <thead>\n",
       "    <tr style=\"text-align: right;\">\n",
       "      <th></th>\n",
       "      <th>articleWordCount</th>\n",
       "      <th>headline</th>\n",
       "      <th>snippet</th>\n",
       "      <th>tokens</th>\n",
       "      <th>label_headline</th>\n",
       "    </tr>\n",
       "  </thead>\n",
       "  <tbody>\n",
       "    <tr>\n",
       "      <th>0</th>\n",
       "      <td>1324</td>\n",
       "      <td>G.O.P. Leadership Poised to Topple Obama’s Pi...</td>\n",
       "      <td>The most powerful and ambitious Republican-led...</td>\n",
       "      <td>['leadership', 'poised', 'topple', 'obama', 'p...</td>\n",
       "      <td>pos</td>\n",
       "    </tr>\n",
       "    <tr>\n",
       "      <th>1</th>\n",
       "      <td>2836</td>\n",
       "      <td>Fractured World Tested the Hope of a Young Pre...</td>\n",
       "      <td>A strategy that went from a “good war” to the ...</td>\n",
       "      <td>['fractured', 'world', 'tested', 'hope', 'youn...</td>\n",
       "      <td>pos</td>\n",
       "    </tr>\n",
       "    <tr>\n",
       "      <th>2</th>\n",
       "      <td>864</td>\n",
       "      <td>Angela Merkel, Russia’s Next Target</td>\n",
       "      <td>With a friend entering the White House, Vladim...</td>\n",
       "      <td>['angela', 'merkel', 'russia', 'next', 'target...</td>\n",
       "      <td>neg</td>\n",
       "    </tr>\n",
       "    <tr>\n",
       "      <th>3</th>\n",
       "      <td>557</td>\n",
       "      <td>Sprint and Mr. Trump’s Fictional Jobs</td>\n",
       "      <td>The emerging, and dangerous, new form of crony...</td>\n",
       "      <td>['sprint', 'mr', 'trump', 'fictional', 'jobsth...</td>\n",
       "      <td>neg</td>\n",
       "    </tr>\n",
       "    <tr>\n",
       "      <th>4</th>\n",
       "      <td>1109</td>\n",
       "      <td>Fighting Diabetes, and Leading by Example</td>\n",
       "      <td>Eric L. Adams, the Brooklyn borough president,...</td>\n",
       "      <td>['fighting', 'diabetes', 'leading', 'exampleer...</td>\n",
       "      <td>pos</td>\n",
       "    </tr>\n",
       "  </tbody>\n",
       "</table>\n",
       "</div>"
      ],
      "text/plain": [
       "   articleWordCount                                           headline  \\\n",
       "0              1324   G.O.P. Leadership Poised to Topple Obama’s Pi...   \n",
       "1              2836  Fractured World Tested the Hope of a Young Pre...   \n",
       "2               864                Angela Merkel, Russia’s Next Target   \n",
       "3               557              Sprint and Mr. Trump’s Fictional Jobs   \n",
       "4              1109          Fighting Diabetes, and Leading by Example   \n",
       "\n",
       "                                             snippet  \\\n",
       "0  The most powerful and ambitious Republican-led...   \n",
       "1  A strategy that went from a “good war” to the ...   \n",
       "2  With a friend entering the White House, Vladim...   \n",
       "3  The emerging, and dangerous, new form of crony...   \n",
       "4  Eric L. Adams, the Brooklyn borough president,...   \n",
       "\n",
       "                                              tokens label_headline  \n",
       "0  ['leadership', 'poised', 'topple', 'obama', 'p...            pos  \n",
       "1  ['fractured', 'world', 'tested', 'hope', 'youn...            pos  \n",
       "2  ['angela', 'merkel', 'russia', 'next', 'target...            neg  \n",
       "3  ['sprint', 'mr', 'trump', 'fictional', 'jobsth...            neg  \n",
       "4  ['fighting', 'diabetes', 'leading', 'exampleer...            pos  "
      ]
     },
     "execution_count": 32,
     "metadata": {},
     "output_type": "execute_result"
    }
   ],
   "source": [
    "new_nyt.head()"
   ]
  },
  {
   "cell_type": "markdown",
   "metadata": {},
   "source": [
    "## Functions"
   ]
  },
  {
   "cell_type": "markdown",
   "metadata": {},
   "source": [
    "The first function gets words individually. This had been done in the previous Jupyter Notebook, but when saving the csv the column turned into a string.\n",
    "\n",
    "The second function gathers all the words and its frequency in a dictionary.\n",
    "\n",
    "Finally, we obtain the most frequent words with a predefined function from the nltk library, and select the most common 3.000."
   ]
  },
  {
   "cell_type": "code",
   "execution_count": 33,
   "metadata": {},
   "outputs": [],
   "source": [
    "def clean_list_str(text):\n",
    "    text = text.strip('[]').split(\",\")\n",
    "    cleaned_text = [word.strip(\"' \") for word in text]\n",
    "    return cleaned_text"
   ]
  },
  {
   "cell_type": "code",
   "execution_count": 34,
   "metadata": {},
   "outputs": [],
   "source": [
    "all_words = {}\n",
    "\n",
    "for token in new_nyt.tokens:\n",
    "    cleaned_token = clean_list_str(token)\n",
    "    for word in cleaned_token:\n",
    "        all_words[word] = 1 if word not in all_words.keys() else all_words[word] + 1"
   ]
  },
  {
   "cell_type": "code",
   "execution_count": 35,
   "metadata": {},
   "outputs": [],
   "source": [
    "all_words = nltk.FreqDist(all_words)\n",
    "most_common_freq = all_words.most_common(3000)"
   ]
  },
  {
   "cell_type": "code",
   "execution_count": 36,
   "metadata": {},
   "outputs": [],
   "source": [
    "most_common_words = [word for word, freq in most_common_freq]"
   ]
  },
  {
   "cell_type": "markdown",
   "metadata": {},
   "source": [
    "## Find features"
   ]
  },
  {
   "cell_type": "markdown",
   "metadata": {},
   "source": [
    "In this list we create a tuple with the dictionary selected above and the label containing whether the piece of news has a positive or a negative approach."
   ]
  },
  {
   "cell_type": "code",
   "execution_count": 37,
   "metadata": {},
   "outputs": [],
   "source": [
    "featuresets = []\n",
    "\n",
    "for idx in range(new_nyt.shape[0]):\n",
    "    # Read data\n",
    "    tokens, label = new_nyt.loc[idx, ['tokens', 'label_headline']]\n",
    "    # Transform str to list\n",
    "    cleaned_tokens = clean_list_str(tokens)\n",
    "    # Create token feature\n",
    "    token_dict = {word: word in most_common_words for word in cleaned_tokens}\n",
    "    # Save feature\n",
    "    feature = (token_dict, label)\n",
    "    featuresets.append(feature)"
   ]
  },
  {
   "cell_type": "markdown",
   "metadata": {},
   "source": [
    "Here it is calculated the 80% of the features to further split them into training and testing."
   ]
  },
  {
   "cell_type": "code",
   "execution_count": 53,
   "metadata": {},
   "outputs": [
    {
     "data": {
      "text/plain": [
       "4223.2"
      ]
     },
     "execution_count": 53,
     "metadata": {},
     "output_type": "execute_result"
    }
   ],
   "source": [
    "len(featuresets)*0.8"
   ]
  },
  {
   "cell_type": "code",
   "execution_count": 54,
   "metadata": {},
   "outputs": [],
   "source": [
    "training_set = featuresets[:4223]\n",
    "testing_set = featuresets[4223:]"
   ]
  },
  {
   "cell_type": "markdown",
   "metadata": {},
   "source": [
    "## Naïve Bayes classifier"
   ]
  },
  {
   "cell_type": "markdown",
   "metadata": {},
   "source": [
    "Training and result of the classifier"
   ]
  },
  {
   "cell_type": "code",
   "execution_count": 55,
   "metadata": {},
   "outputs": [],
   "source": [
    "classifier = nltk.NaiveBayesClassifier.train(training_set)"
   ]
  },
  {
   "cell_type": "code",
   "execution_count": 56,
   "metadata": {},
   "outputs": [
    {
     "name": "stdout",
     "output_type": "stream",
     "text": [
      "Naive Bayes accuracy percent: 79.0719696969697\n"
     ]
    }
   ],
   "source": [
    "print(\"Naive Bayes accuracy percent:\", \n",
    "      (nltk.classify.accuracy(classifier, testing_set))*100)"
   ]
  },
  {
   "cell_type": "markdown",
   "metadata": {},
   "source": [
    "## Most informative features"
   ]
  },
  {
   "cell_type": "markdown",
   "metadata": {},
   "source": [
    "This are the most informative features of the classifier. Each of them has a calculated probability of conveying a positive or a negative sentiment per every time they don't."
   ]
  },
  {
   "cell_type": "code",
   "execution_count": 57,
   "metadata": {},
   "outputs": [
    {
     "name": "stdout",
     "output_type": "stream",
     "text": [
      "Most Informative Features\n",
      "                  sexual = True              neg : pos    =     19.4 : 1.0\n",
      "                favorite = True              pos : neg    =     19.2 : 1.0\n",
      "                problems = True              neg : pos    =     17.3 : 1.0\n",
      "                  attack = True              neg : pos    =     16.6 : 1.0\n",
      "                 variety = True              pos : neg    =     16.1 : 1.0\n",
      "              harassment = True              neg : pos    =     15.9 : 1.0\n",
      "                  crisis = True              neg : pos    =     15.0 : 1.0\n",
      "                   super = True              pos : neg    =     14.2 : 1.0\n",
      "                 success = True              pos : neg    =     14.2 : 1.0\n",
      "                   ready = True              pos : neg    =     12.9 : 1.0\n",
      "                   death = True              neg : pos    =     11.6 : 1.0\n",
      "                 scandal = True              neg : pos    =     11.6 : 1.0\n"
     ]
    }
   ],
   "source": [
    "classifier.show_most_informative_features(12)"
   ]
  }
 ],
 "metadata": {
  "kernelspec": {
   "display_name": "Python 3",
   "language": "python",
   "name": "python3"
  },
  "language_info": {
   "codemirror_mode": {
    "name": "ipython",
    "version": 3
   },
   "file_extension": ".py",
   "mimetype": "text/x-python",
   "name": "python",
   "nbconvert_exporter": "python",
   "pygments_lexer": "ipython3",
   "version": "3.7.4"
  }
 },
 "nbformat": 4,
 "nbformat_minor": 2
}
